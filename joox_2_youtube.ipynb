{
  "nbformat": 4,
  "nbformat_minor": 0,
  "metadata": {
    "colab": {
      "name": "joox-2-youtube.ipynb",
      "provenance": [],
      "collapsed_sections": [],
      "toc_visible": true,
      "authorship_tag": "ABX9TyPa6I+/Ul7oBGMrmthacH6q",
      "include_colab_link": true
    },
    "kernelspec": {
      "name": "python3",
      "display_name": "Python 3"
    },
    "language_info": {
      "name": "python"
    }
  },
  "cells": [
    {
      "cell_type": "markdown",
      "metadata": {
        "id": "view-in-github",
        "colab_type": "text"
      },
      "source": [
        "<a href=\"https://colab.research.google.com/github/flapperz/music-playlist-transfer/blob/main/joox_2_youtube.ipynb\" target=\"_parent\"><img src=\"https://colab.research.google.com/assets/colab-badge.svg\" alt=\"Open In Colab\"/></a>"
      ]
    },
    {
      "cell_type": "markdown",
      "metadata": {
        "id": "hiVfdnn4sY21"
      },
      "source": [
        "## Get Joox music list"
      ]
    },
    {
      "cell_type": "code",
      "metadata": {
        "id": "P33CJ5-6sjAs"
      },
      "source": [
        "import requests\n",
        "from bs4 import BeautifulSoup\n",
        "import time"
      ],
      "execution_count": null,
      "outputs": []
    },
    {
      "cell_type": "code",
      "metadata": {
        "id": "3NrZAZv-s0uR"
      },
      "source": [
        "#@title Joox URL\n",
        "src_url = 'https://www.joox.com/th/playlist/USERPLAYLIST_0_23536932_100000029_1618063434?appshare=null' #@param {type:\"string\"}"
      ],
      "execution_count": null,
      "outputs": []
    },
    {
      "cell_type": "code",
      "metadata": {
        "id": "9WRVGmkvslON"
      },
      "source": [
        "page = requests.get(src_url)\n",
        "soup = BeautifulSoup(page.content, 'html.parser')\n",
        "html_body = list(soup.children)[1]\n"
      ],
      "execution_count": null,
      "outputs": []
    },
    {
      "cell_type": "code",
      "metadata": {
        "id": "yH5IMvyctOP3"
      },
      "source": [
        "html_song_names = list(html_body.select('b.SongName a'))\n",
        "html_song_authors = list(html_body.select('div.SongDesc'))"
      ],
      "execution_count": null,
      "outputs": []
    },
    {
      "cell_type": "code",
      "metadata": {
        "colab": {
          "base_uri": "https://localhost:8080/"
        },
        "id": "F-UP3lOtuE2o",
        "outputId": "db7994a8-fd23-4236-f833-0a2952d098be"
      },
      "source": [
        "song_names = [tag.get_text() for tag in html_song_names]\n",
        "song_authors = [[childtag.get_text() for childtag in tag.children] for tag in html_song_authors]\n",
        "print(song_names[:5])\n",
        "print(song_authors[:5])"
      ],
      "execution_count": null,
      "outputs": [
        {
          "output_type": "stream",
          "text": [
            "['Another One Bites the Dust', 'The Most Beautiful Thing', 'Why iii Love The Moon.', \"Livin' Thing\", 'Yellow Hearts']\n",
            "[['Queen'], ['Bruno Major'], ['Phony PPL'], ['The Beautiful South'], ['Ant Saunders']]\n"
          ],
          "name": "stdout"
        }
      ]
    },
    {
      "cell_type": "markdown",
      "metadata": {
        "id": "v7cECEyXza1J"
      },
      "source": [
        "## Add song to youtube music"
      ]
    },
    {
      "cell_type": "code",
      "metadata": {
        "id": "Ulh9Zi6-4YAH"
      },
      "source": [
        "import google_auth_oauthlib.flow\n",
        "import googleapiclient.discovery\n",
        "import googleapiclient.errors"
      ],
      "execution_count": null,
      "outputs": []
    },
    {
      "cell_type": "code",
      "metadata": {
        "id": "d_VHYVhdF8oa"
      },
      "source": [
        "client_secret_path = \"client_secret_777709478932-jb8cm20botr1s8qblngmdpo2iq45karf.apps.googleusercontent.com.json\" #@param {type:\"string\"}"
      ],
      "execution_count": null,
      "outputs": []
    },
    {
      "cell_type": "code",
      "metadata": {
        "colab": {
          "base_uri": "https://localhost:8080/"
        },
        "id": "JHD2gkL4Dn7-",
        "outputId": "db5bc2ff-4041-4e53-b718-df36bad22684"
      },
      "source": [
        "api_service_name = \"youtube\"\n",
        "api_version = \"v3\"\n",
        "scopes = [\"https://www.googleapis.com/auth/youtube.force-ssl\"]\n",
        "\n",
        "# Get credentials and create an API client\n",
        "flow = google_auth_oauthlib.flow.InstalledAppFlow.from_client_secrets_file(\n",
        "    client_secret_path, scopes)\n",
        "credentials = flow.run_console()\n",
        "youtube = googleapiclient.discovery.build(\n",
        "    api_service_name, api_version, credentials=credentials)\n"
      ],
      "execution_count": null,
      "outputs": [
        {
          "output_type": "stream",
          "text": [
            "Please visit this URL to authorize this application: https://accounts.google.com/o/oauth2/auth?response_type=code&client_id=777709478932-jb8cm20botr1s8qblngmdpo2iq45karf.apps.googleusercontent.com&redirect_uri=urn%3Aietf%3Awg%3Aoauth%3A2.0%3Aoob&scope=https%3A%2F%2Fwww.googleapis.com%2Fauth%2Fyoutube.force-ssl&state=pBxZVeXcm9sbObWDxfCt5fxSvkriJX&prompt=consent&access_type=offline\n",
            "Enter the authorization code: 4/1AY0e-g7VnRamDcUlalnlXJHzXvwyzlX7GiVXdvz2WVfSgiIRVloliuncKnc\n"
          ],
          "name": "stdout"
        }
      ]
    },
    {
      "cell_type": "code",
      "metadata": {
        "id": "g8CvftCt3inN"
      },
      "source": [
        "#@title Name of Playlist\n",
        "title = '' #@param {type: 'string'}\n",
        "request = youtube.playlists().insert(\n",
        "        part=\"snippet,status\",\n",
        "        body={\n",
        "          \"snippet\": {\n",
        "            \"title\": title,\n",
        "            \"description\": \"Create with music playlist transfer by Krit Cholapand\",\n",
        "            \"defaultLanguage\": \"en\"\n",
        "          },\n",
        "          \"status\": {\n",
        "            \"privacyStatus\": \"private\"\n",
        "          }\n",
        "        }\n",
        "    )\n",
        "response = request.execute()\n",
        "playlist_id = response['id']"
      ],
      "execution_count": null,
      "outputs": []
    },
    {
      "cell_type": "code",
      "metadata": {
        "id": "QgUBnRiqBEos",
        "colab": {
          "base_uri": "https://localhost:8080/"
        },
        "outputId": "54a642d4-419f-4cfa-ec40-671f4a5ca0ce"
      },
      "source": [
        "search_snippets = []\n",
        "for i in range(len(song_names)):\n",
        "    name = song_names[i]\n",
        "    authors = song_authors[i]\n",
        "    search_string = f\"{name} {' '.join(authors)}\"\n",
        "    print(search_string)\n",
        "    try:\n",
        "        request = youtube.search().list(part='snippet',type='video', topicId='/m/04rlf', q=search_string, videoCategoryId='10')\n",
        "        snippet = request.execute()\n",
        "        time.sleep(1)\n",
        "    except Exception as e:\n",
        "        print(e)\n",
        "    search_snippets.append(snippet)"
      ],
      "execution_count": null,
      "outputs": [
        {
          "output_type": "stream",
          "text": [
            "Another One Bites the Dust Queen\n",
            "The Most Beautiful Thing Bruno Major\n",
            "Why iii Love The Moon. Phony PPL\n",
            "Livin' Thing The Beautiful South\n",
            "Yellow Hearts Ant Saunders\n",
            "Why'd You Only Call Me When You're High? Arctic Monkeys\n",
            "Piledriver waltz Alex Turner\n",
            "I Don't Trust Myself (With Loving You) John Mayer\n",
            "Watermelon Sugar Harry Styles\n",
            "Lyin' Eyes The Eagles\n",
            "Cornerstone Arctic Monkeys\n",
            "Golden Days Whitney\n",
            "Time After Time (Album Version) Cyndi Lauper\n",
            "Should I Stay or Should I Go (Remastered) The Clash\n",
            "Take on Me A-Ha\n",
            "Happy Together The Turtles\n",
            "Hold On, We're Going Home Drake\n",
            "Come And Get Your Love Redbone\n",
            "Say You Like Me We The Kings\n",
            "Keeping A Secret Bleachers\n",
            "Rollercoaster Bleachers\n",
            "The Oogum Boogum Song Brenton Wood\n",
            "Easy Commodores\n",
            "Stand by Me Oasis\n",
            "Don't Look Back in Anger Oasis\n",
            "Stop Crying Your Heart Out Oasis\n",
            "Young And Beautiful Lana Del Rey\n",
            "Suit & Tie Justin Timberlake Jay-Z\n",
            "The Man Who Can't Be Moved The Script\n",
            "Sweet Disposition The Temper Trap\n",
            "Kiss Prince & The Revolution\n",
            "Heroes David Bowie\n",
            "Falling Slowly Various Artists\n",
            "How Long Will I Love You Jon Boden Sam Sweeney Ben Coleman\n",
            "Can't Smile Without You Barry Manilow\n",
            "Secrets OneRepublic\n",
            "Cups (Pitch Perfect’s “When I’m Gone”) Anna Kendrick\n"
          ],
          "name": "stdout"
        }
      ]
    },
    {
      "cell_type": "code",
      "metadata": {
        "colab": {
          "base_uri": "https://localhost:8080/"
        },
        "id": "vyw9oFsXNXPe",
        "outputId": "aac1e2a5-6c33-4000-e9ce-24afcc7862f2"
      },
      "source": [
        "for snippet in search_snippets:\n",
        "    items = snippet['items']\n",
        "    if items:\n",
        "        video_id = items[0]['id']['videoId']\n",
        "        try:\n",
        "            request = youtube.playlistItems().insert(\n",
        "            part=\"snippet\",\n",
        "            body={\n",
        "            \"snippet\": {\n",
        "                \"playlistId\": playlist_id,\n",
        "                \"position\": 0,\n",
        "                \"resourceId\": {\n",
        "                \"kind\": \"youtube#video\",\n",
        "                \"videoId\": video_id\n",
        "                }\n",
        "            }\n",
        "            }\n",
        "            )\n",
        "        \n",
        "            response = request.execute()\n",
        "        except Exception as e:\n",
        "            print(e)\n",
        "        time.sleep(1)\n",
        "    else:\n",
        "        print('Search not matched')"
      ],
      "execution_count": null,
      "outputs": [
        {
          "output_type": "stream",
          "text": [
            "<HttpError 500 when requesting https://youtube.googleapis.com/youtube/v3/playlistItems?part=snippet&alt=json returned \"Internal error encountered.\". Details: \"Internal error encountered.\">\n"
          ],
          "name": "stdout"
        }
      ]
    },
    {
      "cell_type": "code",
      "metadata": {
        "id": "eckdJh-ZRXqI"
      },
      "source": [
        ""
      ],
      "execution_count": null,
      "outputs": []
    }
  ]
}